{
 "cells": [
  {
   "cell_type": "markdown",
   "metadata": {
    "code_hole_highlighter": [],
    "codehighlighter": [],
    "id": 0,
    "summary": true
   },
   "source": [
    "<h6>Summary<span class=\"summary\"></span></h6><a href=\"#test\"><span class=\"module-name-text-summary\" style=\"white-space: nowrap;\">test</span></a>\n"
   ]
  },
  {
   "cell_type": "code",
   "execution_count": 1,
   "metadata": {
    "code_hole_highlighter": [],
    "codehighlighter": [],
    "fileName": "/home/jovyan/example/test.agda",
    "holes": [],
    "moduleName": "test",
    "preambleLength": 0
   },
   "outputs": [
    {
     "name": "stdout",
     "output_type": "stream",
     "text": []
    }
   ],
   "source": [
    "module test where\n",
    "\n",
    "id : ∀ {A : Set} → A → A\n",
    "id x = x"
   ]
  }
 ],
 "metadata": {
  "kernelspec": {
   "display_name": "agda",
   "language": "agda",
   "name": "agda"
  },
  "language_info": {
   "file_extension": ".agda",
   "mimetype": "text/agda",
   "name": "agda"
  },
  "toc": {
   "base_numbering": 1,
   "nav_menu": {},
   "number_sections": true,
   "sideBar": true,
   "skip_h1_title": false,
   "title_cell": "Table of Contents",
   "title_sidebar": "Contents",
   "toc_cell": false,
   "toc_position": {},
   "toc_section_display": true,
   "toc_window_display": false
  }
 },
 "nbformat": 4,
 "nbformat_minor": 4
}
